{
 "cells": [
  {
   "cell_type": "code",
   "execution_count": 19,
   "metadata": {},
   "outputs": [
    {
     "name": "stdout",
     "output_type": "stream",
     "text": [
      "   Number Prime Factors  Factorial  Sum to Number\n",
      "0      10        [2, 5]    3628800             55\n",
      "1      11          [11]   39916800             66\n",
      "2      12     [2, 2, 3]  479001600             78\n"
     ]
    }
   ],
   "source": [
    "import pandas as pd\n",
    "\n",
    "# تابع برای محاسبه فاکتوریل\n",
    "def factorial(n):\n",
    "    if n == 0:\n",
    "        return 1\n",
    "    else:\n",
    "        return n * factorial(n-1)\n",
    "\n",
    "# تابع برای یافتن عوامل اول\n",
    "def prime_factors(n):\n",
    "    i = 2\n",
    "    factors = []\n",
    "    while i * i <= n:\n",
    "        if n % i:\n",
    "            i += 1\n",
    "        else:\n",
    "            n //= i\n",
    "            factors.append(i)\n",
    "    if n > 1:\n",
    "        factors.append(n)\n",
    "    return factors\n",
    "\n",
    "# تابع برای محاسبه جمع تا عدد\n",
    "def sum_to_n(n):\n",
    "    return n * (n + 1) // 2\n",
    "\n",
    "# اعداد اولیه\n",
    "numbers = [10, 11, 12]\n",
    "\n",
    "# ایجاد دیکشنری برای DataFrame\n",
    "data = {\n",
    "    'Number': numbers,\n",
    "    'Prime Factors': [prime_factors(num) for num in numbers],\n",
    "    'Factorial': [factorial(num) for num in numbers],\n",
    "    'Sum to Number': [sum_to_n(num) for num in numbers],\n",
    "}\n",
    "\n",
    "# ایجاد DataFrame\n",
    "df = pd.DataFrame(data)\n",
    "\n",
    "print(df)"
   ]
  }
 ],
 "metadata": {
  "kernelspec": {
   "display_name": "Python 3",
   "language": "python",
   "name": "python3"
  },
  "language_info": {
   "name": "python",
   "version": "3.12.2"
  }
 },
 "nbformat": 4,
 "nbformat_minor": 2
}
